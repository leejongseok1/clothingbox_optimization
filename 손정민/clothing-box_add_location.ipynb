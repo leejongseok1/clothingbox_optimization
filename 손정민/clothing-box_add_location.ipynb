{
 "cells": [
  {
   "cell_type": "markdown",
   "metadata": {},
   "source": [
    "## 의류수거함 추가지역 시각화"
   ]
  },
  {
   "cell_type": "code",
   "execution_count": null,
   "metadata": {},
   "outputs": [],
   "source": [
    "import folium\n",
    "\n",
    "geo_data = 'geo_gwangjin_qgis.geojson'\n",
    "m = folium.Map(location=(37.5467202379314, 127.085744097681),\n",
    "                tiles=\"OpenStreetMap\", width=850, height=850, zoom_start=14)\n",
    "\n",
    "# 경계 구분선을 위한 FeatureGroup 생성\n",
    "boundary_layer = folium.FeatureGroup(name='Boundary')\n",
    "\n",
    "# GeoJSON 파일의 경계를 추가\n",
    "boundary_layer.add_child(folium.GeoJson(\n",
    "    geo_data,\n",
    "    style_function=lambda feature: {\n",
    "        'color': 'blue',  # 경계선 색상\n",
    "        'weight': 2,       # 경계선 두께\n",
    "        'fillOpacity': 0   # 채우기 없음\n",
    "    }\n",
    "))\n",
    "\n",
    "# 각 동의 노드를 표현하기 위한 FeatureGroup 생성\n",
    "node_layer = folium.FeatureGroup(name='Nodes')\n",
    "\n",
    "# 동의 노드를 추가\n",
    "locs = {\n",
    "    \"자양1동\": [(37.5339361, 127.0825746), (37.5334805, 127.0782465), (37.5366232, 127.0786585)],\n",
    "    \"능동\": [(37.5527734, 127.0794409), (37.5538049, 127.0808483), (37.5525985, 127.082654),\n",
    "           (37.552567, 127.0841361), (37.5518439, 127.0868644), (37.5537659, 127.0826174),\n",
    "           (37.5551837, 127.0795202), (37.553289, 127.0783815)],\n",
    "    \"자양2동\": [(37.5315351, 127.088244), (37.5302261, 127.0886213), (37.5317737, 127.0867559),\n",
    "             (37.5307082, 127.0836519), (37.5301995, 127.0821478), (37.5301339, 127.0833207),\n",
    "             (37.5296292, 127.0848189), (37.5289459, 127.0831696), (37.5284945, 127.0806117)],\n",
    "    \"구의2동\": [(37.5501957, 127.095365), (37.5513564, 127.093282), (37.552871, 127.0913226),\n",
    "             (37.5521154, 127.0906555), (37.5506861, 127.0927556), (37.5478885, 127.0922576),\n",
    "             (37.5482483, 127.0877264), (37.5502368, 127.0894746), (37.5495585, 127.087986),\n",
    "             (37.5545159, 127.0964894), (37.5534225, 127.0965013), (37.5543567, 127.0957457),\n",
    "             (37.5535905, 127.0924822), (37.5527957, 127.0934258), (37.5520314, 127.0956251),\n",
    "             (37.5509817, 127.0953444), (37.5510373, 127.0963987)]\n",
    "}\n",
    "\n",
    "for name, loc in locs.items():\n",
    "    for coord in loc:\n",
    "        folium.CircleMarker(location=coord, radius=5, color='red', fill=True, fill_color='red').add_to(node_layer)\n",
    "\n",
    "# FeatureGroup을 지도에 추가\n",
    "m.add_child(boundary_layer)\n",
    "m.add_child(node_layer)\n",
    "\n",
    "# Layer Control을 추가하여 각 Layer를 제어할 수 있도록 함\n",
    "folium.LayerControl().add_to(m)\n",
    "\n",
    "# 지도 출력\n",
    "m"
   ]
  }
 ],
 "metadata": {
  "language_info": {
   "name": "python"
  }
 },
 "nbformat": 4,
 "nbformat_minor": 2
}
